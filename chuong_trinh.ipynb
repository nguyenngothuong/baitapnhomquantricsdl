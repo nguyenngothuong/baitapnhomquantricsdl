{
 "cells": [
  {
   "cell_type": "code",
   "execution_count": 10,
   "metadata": {},
   "outputs": [],
   "source": [
    "import pyodbc\n",
    "import pandas as pd\n",
    "\n",
    "#check drive odbc trên máy"
   ]
  },
  {
   "cell_type": "markdown",
   "metadata": {},
   "source": [
    "### kết nối đến csdl db quanlybanhang_chillax"
   ]
  },
  {
   "cell_type": "code",
   "execution_count": 11,
   "metadata": {},
   "outputs": [],
   "source": [
    "conx = pyodbc.connect('DRIVER={ODBC Driver 17 for SQL Server};\\\n",
    "                    SERVER=THUONGSPC\\SQLEXPRESS; \\\n",
    "                    Database=quanlybanhang_chillax;\\\n",
    "                    UID=btn_qtcsdl;PWD=btn_qtcsdl;') #KO báo lỗi j tức là connect thành công"
   ]
  },
  {
   "cell_type": "markdown",
   "metadata": {},
   "source": [
    "### các chức năng"
   ]
  },
  {
   "cell_type": "code",
   "execution_count": 12,
   "metadata": {},
   "outputs": [
    {
     "name": "stdout",
     "output_type": "stream",
     "text": [
      "---QUẢN TRỊ CƠ SỞ DỮ LIỆU BÁN HÀNG CHILLAX---\n",
      "Nhập 1 - thêm dữ liệu\n",
      "Nhập 2 - sửa dữ liệu\n",
      "Nhập 3 - xóa dữ liệu\n",
      "Nhập 4 - tìm kiếm dữ liệu\n",
      "Nhập 0 - kết thúc trương trình\n",
      "Thực hiện tìm kiếm dữ liệu....\n",
      "tìm kiếm dữ liệu thành công!\n",
      "        madonhang skusanpham   skuphanloaihang  soluong\n",
      "0  211002RnT9T1X2        NTN    NTN-AmberEbony        1\n",
      "1  211002RnT9T1X2        NTN  NTN-SunshineRose        1\n"
     ]
    },
    {
     "name": "stderr",
     "output_type": "stream",
     "text": [
      "c:\\Users\\admin\\AppData\\Local\\Programs\\Python\\Python310\\lib\\site-packages\\pandas\\io\\sql.py:761: UserWarning: pandas only support SQLAlchemy connectable(engine/connection) ordatabase string URI or sqlite3 DBAPI2 connectionother DBAPI2 objects are not tested, please consider using SQLAlchemy\n",
      "  warnings.warn(\n"
     ]
    }
   ],
   "source": [
    "def themdulieu():\n",
    "    cursor = conx.cursor()\n",
    "    madonhang = str(input('Nhập mã đơn hàng: '))\n",
    "    skusanpham = str(input('Nhập mã sku sản phẩm: '))\n",
    "    skuphanloaihang = str(input('Nhập mã sku phân loại hàng: '))\n",
    "    soluong = int(input(\"Nhập số lượng: \"))\n",
    "\n",
    "    cursor.execute(\"insert donhang values (?,?,?,?)\",madonhang,skusanpham,skuphanloaihang,soluong)\n",
    "    # cursor.fetchall()\n",
    "    rc = cursor.rowcount #KIỂM TRA SỐ LƯỢNG HÀNG BỊ ẢNH HƯỞNG BỞI CÂU LỆNH TRÊN\n",
    "    if rc > 0:\n",
    "        print(\"Thêm dữ liệu thành công!\")\n",
    "        # main() #chạy tiếp chương trình\n",
    "        # print(\"%d\"%rc) #số hàng bị ảnh hưởng\n",
    "\n",
    "    conx.commit() #phải commit cho nó thì mới insert đc. ko như ssms thông thường.\n",
    "    conx.close()\n",
    "\n",
    "def suadulieu(): #update du lieu\n",
    "    cursor = conx.cursor()\n",
    "    madonhang = str(input('Nhập mã đơn hàng cần sửa: '))\n",
    "    skusanpham = str(input('Nhập mã sku sản phẩm: '))\n",
    "    skuphanloaihang = str(input('Nhập mã sku phân loại hàng: '))\n",
    "    soluong = int(input(\"Nhập số lượng: \"))\n",
    "\n",
    "    sql_query = '''\n",
    "        update donhang \n",
    "        set skusanpham = ?\n",
    "            ,skuphanloaihang = ?\n",
    "            ,soluong = ? \n",
    "        where madonhang = ?\n",
    "    '''\n",
    "\n",
    "    cursor.execute(sql_query, skusanpham, skuphanloaihang, soluong, madonhang)\n",
    "    rc = cursor.rowcount #KIỂM TRA SỐ LƯỢNG HÀNG BỊ ẢNH HƯỞNG BỞI CÂU LỆNH TRÊN\n",
    "    if rc > 0:\n",
    "        print(\"Sửa dữ liệu thành công!\")\n",
    "        print(\"%d\"%rc) #số hàng bị ảnh hưởng\n",
    "        # main() #chạy tiếp chương trình\n",
    "    conx.commit()\n",
    "    conx.close()\n",
    "\n",
    "def xoadulieu(): #update du lieu\n",
    "    cursor = conx.cursor()\n",
    "    madonhang = str(input('Nhập mã đơn hàng cần xóa: '))\n",
    "    sql_query = '''\n",
    "        delete donhang \n",
    "        where madonhang = ?\n",
    "    '''\n",
    "\n",
    "    cursor.execute(sql_query, madonhang)\n",
    "    rc = cursor.rowcount #KIỂM TRA SỐ LƯỢNG HÀNG BỊ ẢNH HƯỞNG BỞI CÂU LỆNH TRÊN\n",
    "    if rc > 0:\n",
    "        print(\"Xóa dữ liệu thành công!\")\n",
    "        print(\"%d\"%rc) #số hàng bị ảnh hưởng\n",
    "        # main() #chạy tiếp chương trình\n",
    "    conx.commit()\n",
    "    conx.close()\n",
    "\n",
    "def timkiemdulieu(): #update du lieu\n",
    "    cursor = conx.cursor()\n",
    "\n",
    "    madonhang = str(input('Nhập mã đơn hàng cần tìm: '))\n",
    "\n",
    "    sql_query = '''\n",
    "        select * from donhang \n",
    "        where madonhang = ?\n",
    "    '''\n",
    "\n",
    "    cursor.execute(sql_query, madonhang)\n",
    "    print(\"tìm kiếm dữ liệu thành công!\")\n",
    "    data = cursor.fetchall()\n",
    "    print(data)\n",
    "    conx.commit()\n",
    "    conx.close()\n",
    "\n",
    "\n",
    "def timkiemdulieu_v02(): #update du lieu\n",
    "    madonhang = str(input('Nhập mã đơn hàng cần tìm: '))\n",
    "\n",
    "    # nguoimua =  \"' or 1 = 1--\"\n",
    "    print(\"tìm kiếm dữ liệu thành công!\")\n",
    "    sql_query = \"select * from donhang where madonhang = \" + \"'\" + str(madonhang) +\"'\"\n",
    "    df = pd.read_sql(sql_query,conx)\n",
    "    print(df)    \n",
    "    conx.commit()\n",
    "\n",
    "\n",
    "def main():\n",
    "    print('---QUẢN TRỊ CƠ SỞ DỮ LIỆU BÁN HÀNG CHILLAX---')\n",
    "    print('Nhập 1 - thêm dữ liệu')\n",
    "    print('Nhập 2 - sửa dữ liệu')\n",
    "    print('Nhập 3 - xóa dữ liệu')\n",
    "    print('Nhập 4 - tìm kiếm dữ liệu')\n",
    "    print('Nhập 0 - kết thúc trương trình')\n",
    "    input_func = int(input('Nhập số: '))\n",
    "    return input_func\n",
    "\n",
    "func = main()\n",
    "\n",
    "if func == 1:\n",
    "    print('Thực hiện chức năng thêm dữ liệu....')\n",
    "    themdulieu()\n",
    "elif func == 2: \n",
    "    print('Thực hiện chức năng sửa dữ liệu....')\n",
    "    suadulieu()\n",
    "elif func == 3:\n",
    "    print('Thực hiện chức năng xóa dữ liệu....')\n",
    "    xoadulieu()\n",
    "elif func == 4:\n",
    "    print('Thực hiện tìm kiếm dữ liệu....')\n",
    "    # timkiemdulieu()\n",
    "    timkiemdulieu_v02()\n",
    "\n",
    "else:\n",
    "    print('kết thúc chương trình')"
   ]
  },
  {
   "cell_type": "code",
   "execution_count": null,
   "metadata": {},
   "outputs": [],
   "source": []
  }
 ],
 "metadata": {
  "kernelspec": {
   "display_name": "Python 3.10.6 64-bit",
   "language": "python",
   "name": "python3"
  },
  "language_info": {
   "codemirror_mode": {
    "name": "ipython",
    "version": 3
   },
   "file_extension": ".py",
   "mimetype": "text/x-python",
   "name": "python",
   "nbconvert_exporter": "python",
   "pygments_lexer": "ipython3",
   "version": "3.10.6"
  },
  "orig_nbformat": 4,
  "vscode": {
   "interpreter": {
    "hash": "beedbe2faf2f7048d727558d0bc3221e7eba2a0b921cac4d4771b2feb8f74b30"
   }
  }
 },
 "nbformat": 4,
 "nbformat_minor": 2
}
